{
 "cells": [
  {
   "cell_type": "markdown",
   "metadata": {},
   "source": [
    "# Sublesson 2: Coding Exercise"
   ]
  },
  {
   "cell_type": "markdown",
   "metadata": {},
   "source": [
    "# Infinity and Black Holes\n",
    "In this exercise, we will be looking at black holes and their behavior after a long time. You will get to learn about black holes in general, information theory, and basic laws of our universe. You will also get a chance to simulate how our basic laws can be broken at extreme cases.\n",
    "## Learning Objectives\n",
    "1. Get acquainted with descriptions of a black hole, its structures and behavior\n",
    "2. Visualize how the black hole changes over time\n",
    "3. Discuss the information theory, mass conservation laws and energy conservation laws considering black hole evaporation"
   ]
  },
  {
   "cell_type": "markdown",
   "metadata": {},
   "source": [
    "## Assignment Description\n",
    "For this assignment, we will assume that black holes have a good saturation that they do not feed (get larger) and they only emit radiation (and do nothing else.) We will be calculating the necessary time for a set of black holes to decay. We will assume that there exists 5 black holes that have the same mass as the Earth, Jupiter, the Sun, Sagittarius A* (the black hole at the center of our galaxy) and Phoenix A (the most massive black hole ever discovered) This will be more applicable for Task 2. \n",
    "```\n",
    "A fun fact about Phoenix A is that it is twice the size of the Triangulum galaxy and that it has a circumference that would take 71 days and 14 hours to travel at light speed.\n",
    "```"
   ]
  },
  {
   "cell_type": "markdown",
   "metadata": {},
   "source": [
    "For this to work, we already provide you with some values belows. What you have to do is to click `run` on the top left of the coding block when you hover on it or click `Shift + Enter` to run the block immediately when you are on it. We also provide you some comments either in the format of\n",
    "\n",
    "```\n",
    "# comments here\n",
    "```\n",
    "\n",
    "or \n",
    "```\n",
    "''' We are now commenting this way too '''\n",
    "```\n",
    "\n",
    "This way you can better understand what to do, what the variables."
   ]
  },
  {
   "cell_type": "code",
   "execution_count": 1,
   "metadata": {},
   "outputs": [],
   "source": [
    "import numpy as np\n",
    "\n",
    "### VARIABLES REQUIRED\n",
    "\n",
    "current_age = 1.37e+10 #This is the current age of the universe in years\n",
    "pi  = np.pi #This is the pi constant that is used in most equations\n",
    "G  = 6.67430e-11 #This is the universal gravitational constant.\n",
    "c = 299792458 #Speed of light in [m/s]\n",
    "h_reduced = 6.582119569e-16 #This is the reduced plank constant given by h bar"
   ]
  },
  {
   "cell_type": "markdown",
   "metadata": {},
   "source": [
    "## Task 1: Mass for Lifetime of the Universe\n",
    "This part of the assignment requires you to calculate the mass required for a black hole to have an evaporation of the current age of the universe which is **13.7 billion years** old. You will be required to note this value down and then discuss it with the group afterwards. Start by inverting the equation given so that you can have M as a function of t_ev. You can use logarithms, or just square roots - whichever you prefer. They will result in the same answer.\n",
    "\n",
    "$$t_{ev} = \\frac{5120 \\pi G^2 M^3}{\\bar{h}c^4} = \\frac{480c^2V}{\\bar{h}G}$$"
   ]
  },
  {
   "cell_type": "code",
   "execution_count": null,
   "metadata": {},
   "outputs": [],
   "source": [
    "def m_age(t_ev=current_age):\n",
    "  #This is a function that will allow you to calculate required mass\n",
    "  #How it works is that you change the value as you see in the equation and then you are all set\n",
    "  #Whenever you run the code, you should be able to see your result here\n",
    "  #If want to write exponents, do variable**(exponent)\n",
    "  #If you want to multiply, you have to use the asterisk sign *\n",
    "  #The place where you want to use evaporation time, type t_ev\n",
    "  task1_value = '''! CHANGE THIS !'''\n",
    "  return task1_value"
   ]
  },
  {
   "cell_type": "markdown",
   "metadata": {},
   "source": [
    "## Task 2: Reference Values\n",
    "The assignment steps that you need to reproduce is given below. If you follow these instructions carefully, you should be able to understand how much time it takes for black holes to evaporate.\n",
    "1. Start by making a list of all of the mass values. Name this list **mass_values** for further use. This might already be done for you, check your console.\n",
    "2. Generate a list of time evaporation values called **time_evaporate** and calculate the evaporation time of all of the black holes with the given mass.\n",
    "3. Scatter plot the results to confirm. These scatter plots should show the time in the x-axis and the mass values on the y-axis, and the results should be increasing as a function of M to the power of 3."
   ]
  },
  {
   "cell_type": "markdown",
   "metadata": {},
   "source": [
    "For your convenience, below are the masses of all of the celestial bodies you need for this exercise."
   ]
  },
  {
   "cell_type": "code",
   "execution_count": null,
   "metadata": {},
   "outputs": [],
   "source": [
    "#Mass Values Needed\n",
    "mass_earth = 5.972e+24 #This is the mass of the Earth in kilograms\n",
    "mass_jupiter = 1.898e+27 #This is the mass of the Jupiter in kg\n",
    "mass_sun = 1.989e+30 #This is the mass of the Sun in kg\n",
    "mass_sagA = 8.26e+36 #This is the mass of the Sagittarius A* in kg\n",
    "mass_phoA = mass_sun * 100e+6 #This is the mass of the largest known black hole, in kg"
   ]
  },
  {
   "cell_type": "markdown",
   "metadata": {},
   "source": [
    "Lists are a list of values that you can immediately access and manipulate. Python is weird, and it starts counting from 0. So if you wanted to access the value of the first element in a list, you would have to do `name_of_the_list[0]` which immediately returns the first element within the list. Your job is to put all of the mass values above to the list below."
   ]
  },
  {
   "cell_type": "code",
   "execution_count": null,
   "metadata": {},
   "outputs": [],
   "source": [
    "mass_values = ['''Remove this and list them here'''] #This is a list of the values of the masses"
   ]
  },
  {
   "cell_type": "markdown",
   "metadata": {},
   "source": [
    "Now that we have the list in the correct format, we use the equation in task 1 and make it into a function to calculate all of the evaporation times of any blackhole with any mass"
   ]
  },
  {
   "cell_type": "code",
   "execution_count": null,
   "metadata": {},
   "outputs": [],
   "source": [
    "#Function for Evaporation time\n",
    "def t_evaporate(mass):\n",
    "  #How it works is that you change the the code so that you have the evaporation time       equation here\n",
    "  #Whenever you run the code, you should be able to see your result here\n",
    "  #If want to write exponents, do variable**(exponent)\n",
    "  #If you want to multiply, you have to use the asterisk sign *\n",
    "  #The place where you want to use evaporation time, type t_ev\n",
    "  return '''! CHANGE THIS !'''"
   ]
  },
  {
   "cell_type": "markdown",
   "metadata": {},
   "source": [
    "A loop is just an iterative (so it does the same for all of the things inside one range of values) process. In python, you can use loops to apply a formula to a number in a list so that you can convert all of the list to another set of values This is done with the for i in (condition): marker in the code. We mark i as the placeholder number where the code will understand what to iterate over. We usually loop over a list of values by not indicating the place of the value we want to change but instead putting the placeholder i wherever you would normally try to access the value. So, instead of writing `mass_values[0], mass_values[1],...` to get the values, we will use a for loop with placeholder i  as mass_values[i] and let Python change the i value automatically.\n",
    "\n",
    "In Python, you can use the in the following format\n",
    "```\n",
    "for i in condition:\n",
    "    do something\n",
    "```"
   ]
  },
  {
   "cell_type": "markdown",
   "metadata": {},
   "source": [
    "Here, calculate the evaporation time for the Earth, Jupiter, Sun, Sagittarius A*, and the largest known black hole using the function you implemented above by making the necessary change in the following code."
   ]
  },
  {
   "cell_type": "code",
   "execution_count": null,
   "metadata": {},
   "outputs": [],
   "source": [
    "t_ev_mass_values = []\n",
    "#Looping through the list of mass values to calculate the evaporation times\n",
    "for i in range(len(mass_values)):\n",
    "  time = '''! CHANGE THIS !'''\n",
    "  t_ev_mass_values.append(time)"
   ]
  }
 ],
 "metadata": {
  "kernelspec": {
   "display_name": "Python 3",
   "language": "python",
   "name": "python3"
  },
  "language_info": {
   "codemirror_mode": {
    "name": "ipython",
    "version": 3
   },
   "file_extension": ".py",
   "mimetype": "text/x-python",
   "name": "python",
   "nbconvert_exporter": "python",
   "pygments_lexer": "ipython3",
   "version": "3.12.6"
  }
 },
 "nbformat": 4,
 "nbformat_minor": 2
}
